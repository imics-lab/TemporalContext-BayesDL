{
  "nbformat": 4,
  "nbformat_minor": 0,
  "metadata": {
    "colab": {
      "provenance": []
    },
    "kernelspec": {
      "name": "python3",
      "display_name": "Python 3"
    },
    "language_info": {
      "name": "python"
    }
  },
  "cells": [
    {
      "cell_type": "code",
      "execution_count": 1,
      "metadata": {
        "id": "vX_Edikf88PT"
      },
      "outputs": [],
      "source": [
        "import os\n",
        "import shutil\n",
        "from scipy import io #for loadmat, matlab conversion\n",
        "import numpy as np\n",
        "import random\n",
        "from collections import defaultdict, Counter\n",
        "import matplotlib.pyplot as plt # for plotting training curves\n",
        "from tensorflow import keras #added to save model\n",
        "from tensorflow.keras import layers #format matches MNIST example\n",
        "from tensorflow.keras.callbacks import EarlyStopping\n",
        "#imports for computing and displaying output metrics\n",
        "import seaborn as sns\n",
        "import pandas as pd\n",
        "from sklearn.metrics import classification_report\n",
        "from sklearn.metrics import accuracy_score, confusion_matrix, precision_recall_fscore_support\n",
        "import urllib.request # to get files from web w/o !wget\n",
        "import gc\n",
        "\n",
        "# temp - needed for SHL split\n",
        "from sklearn.model_selection import train_test_split"
      ]
    },
    {
      "cell_type": "code",
      "source": [
        "def namestr(obj, namespace):\n",
        "    return [name for name in namespace if namespace[name] is obj]\n",
        "\n",
        "def get_shapes(np_arr_list):\n",
        "    \"\"\"Returns text, each line is shape and dtype for numpy array in list\n",
        "       example: print(get_shapes([X_train, X_test, y_train, y_test]))\"\"\"\n",
        "    shapes = \"\"\n",
        "    for i in np_arr_list:\n",
        "        my_name = namestr(i,globals())\n",
        "        shapes += (my_name[0] + \" shape is \" + str(i.shape) \\\n",
        "            + \" data type is \" + str(i.dtype) + \"\\n\")\n",
        "    return shapes"
      ],
      "metadata": {
        "id": "6-R6IjeeRxvy"
      },
      "execution_count": 2,
      "outputs": []
    },
    {
      "cell_type": "code",
      "source": [
        "def get_py_file(fname, url):\n",
        "    \"\"\"checks for local file, if none downloads from URL.\n",
        "    :return: nothing\"\"\"\n",
        "    if (os.path.exists(fname)):\n",
        "        print (\"Local\",fname, \"found, skipping download\")\n",
        "    else:\n",
        "        print(\"Downloading\",fname, \"from IMICS git repo\")\n",
        "        urllib.request.urlretrieve(url, filename=fname)\n",
        "\n",
        "get_py_file(fname = 'load_data_utils.py', url = 'https://raw.githubusercontent.com/imics-lab/load_data_time_series/main/load_data_utils.py')\n",
        "\n"
      ],
      "metadata": {
        "colab": {
          "base_uri": "https://localhost:8080/"
        },
        "id": "l7_o9tcqR3WW",
        "outputId": "dcb1575b-385e-4492-e131-ff08ea1708c5"
      },
      "execution_count": 3,
      "outputs": [
        {
          "output_type": "stream",
          "name": "stdout",
          "text": [
            "Downloading load_data_utils.py from IMICS git repo\n"
          ]
        }
      ]
    },
    {
      "cell_type": "code",
      "source": [
        "import load_data_utils as utils # ldu just seemed confusing!\n",
        "print('My env_info: \\n' + utils.get_env_info()) # using + vs , gets rid of space"
      ],
      "metadata": {
        "colab": {
          "base_uri": "https://localhost:8080/"
        },
        "id": "6xVjxXs9R6jp",
        "outputId": "84636670-af82-42e0-ffa8-a3760e55e3db"
      },
      "execution_count": 4,
      "outputs": [
        {
          "output_type": "stream",
          "name": "stdout",
          "text": [
            "My env_info: \n",
            "model name\t: Intel(R) Xeon(R) CPU @ 2.20GHz\n",
            "model name\t: Intel(R) Xeon(R) CPU @ 2.20GHz\n",
            "GPU: \n"
          ]
        }
      ]
    },
    {
      "cell_type": "code",
      "source": [
        "def get_dataset(dataset):\n",
        "    if (dataset == 'MobiAct HAR'):\n",
        "        if (os.path.exists('MobiAct_Dataset_v1.0.zip')):\n",
        "            print (\"Local MobiAct zip found, skipping download\")\n",
        "        else:\n",
        "            !gdown \"1kt9wtIt7N7SIFQAbav7zcZ_PqTa5HegA&confirm=t\" # MobiAct alternate file source\n",
        "        # original share is https://drive.google.com/uc?id=0B5VcW5yHhWhibWxGRTZDd0dGY2s'\n",
        "        # please see https://bmi.hmu.gr/the-mobifall-and-mobiact-datasets-2/ if not working\n",
        "        get_py_file(fname = 'mobiact_adl_load_dataset.py',\n",
        "                url = 'https://raw.githubusercontent.com/imics-lab/load_data_time_series/main/HAR/MobiAct/mobiact_adl_load_dataset.py')\n",
        "        from mobiact_adl_load_dataset import mobiact_adl_load_dataset\n",
        "        x_train, y_train, x_valid, y_valid, x_test, y_test = mobiact_adl_load_dataset(incl_val_group = True)\n",
        "        k_size = 50\n",
        "        EPOCHS = 50\n",
        "        t_names = ['JOG','JUM','STD','STN','STU','WAL']\n",
        "    elif (dataset == 'UniMiB SHAR'):\n",
        "        get_py_file(fname = 'unimib_adl_load_dataset.py',\n",
        "                url = 'https://raw.githubusercontent.com/imics-lab/load_data_time_series/main/HAR/UniMiB_SHAR/unimib_shar_adl_load_dataset.py')\n",
        "        from unimib_adl_load_dataset import unimib_load_dataset\n",
        "        x_train, y_train, x_valid, y_valid, x_test, y_test = unimib_load_dataset(incl_val_group = True)\n",
        "        t_names = ['StandingUpFS','StandingUpFL','Walking','Running','GoingUpS','Jumping','GoingDownS','LyingDownFS','SittingDown']\n",
        "        k_size = 50\n",
        "        EPOCHS = 60\n",
        "    elif (dataset == 'UCI HAR'):\n",
        "        get_py_file(fname = 'uci_har_load_dataset.py',\n",
        "                    url = 'https://raw.githubusercontent.com/imics-lab/load_data_time_series/main/HAR/UCI_HAR/uci_har_load_dataset.py')\n",
        "        from uci_har_load_dataset import uci_har_load_dataset\n",
        "        x_train, y_train, x_valid, y_valid, x_test, y_test = uci_har_load_dataset(incl_val_group = True, incl_xyz_accel= True)\n",
        "        t_names = ['WALKING','WALKING_UPSTAIRS','WALKING_DOWNSTAIRS','SITTING','STANDING','LAYING']\n",
        "        k_size = 50\n",
        "        EPOCHS = 120\n",
        "    elif (dataset == 'TWristAR'):\n",
        "        # Note TWristAR is more updated than the previous datasets so the accesses\n",
        "        # and defaults are a bit different, e.g. t_names is pulled from the .py\n",
        "        get_py_file(fname = 'twristar_load_dataset.py',\n",
        "                    url = 'https://raw.githubusercontent.com/imics-lab/load_data_time_series/main/HAR/TWristAR/twristar_load_dataset.py')\n",
        "        import twristar_load_dataset as twristar_load_dataset # diff to get label map\n",
        "        x_train, y_train, x_valid, y_valid, x_test, y_test \\\n",
        "                                = twristar_load_dataset.twristar_load_dataset(\n",
        "                                    incl_val_group = True,\n",
        "                                    one_hot_encode = True)\n",
        "        t_names = list(twristar_load_dataset.label_map_twristar.get('label').keys())\n",
        "        t_names.remove('Undefined')\n",
        "        k_size = 16\n",
        "        EPOCHS = 100\n",
        "    elif (dataset == 'Leotta_2021'):\n",
        "        get_py_file(fname = 'leotta_2021_load_dataset.py',\n",
        "                    url = 'https://raw.githubusercontent.com/imics-lab/load_data_time_series/main/ADL/Leotta_2021/leotta_2021_load_dataset.py')\n",
        "        #full_filename = my_path+os.path.join('/ADL/Leotta_2021/'+'leotta_2021_load_dataset.py')\n",
        "        #shutil.copy(full_filename,'leotta_2021_load_dataset.py')\n",
        "\n",
        "        import leotta_2021_load_dataset as leotta_2021_load_dataset\n",
        "        x_train, y_train, x_valid, y_valid, x_test, y_test = leotta_2021_load_dataset.leotta_2021_load_dataset(incl_val_group = True, one_hot_encode = True)\n",
        "        t_names = list(leotta_2021_load_dataset.label_map_leotta.get('label').keys())\n",
        "        k_size = 100\n",
        "        EPOCHS = 50\n",
        "    elif (dataset == 'SHL'):\n",
        "        # SHL takes about 30 minutes to process due to size, using saved arrays for now\n",
        "        !gdown \"1ApHVQ-P2reO6ctNVxeHHxCHeoNlp6c9P&confirm=t\" # SHL 20Hz\n",
        "        utils.unzip_into_dir('SHL_20hz_for_gentry.zip','SHL')\n",
        "        input_dir = './SHL'\n",
        "        x_train = np.load(input_dir + '/'+'x_train.npy')\n",
        "        x_train = np.delete(x_train, [0,1,2], 2) # delete component accel\n",
        "        x_test = np.load(input_dir + '/'+'x_test.npy')\n",
        "        x_test = np.delete(x_test, [0,1,2], 2) # delete component accel\n",
        "        y_train = np.load(input_dir + '/'+'y_train.npy')\n",
        "        y_test = np.load(input_dir + '/'+'y_test.npy')\n",
        "        # also don't have validate working in SHL so just using stratify\n",
        "        x_train, x_valid, y_train, y_valid = train_test_split(x_train, y_train, test_size=0.10, random_state=42, stratify=y_train)\n",
        "\n",
        "        t_names = ['Still', 'Walking', 'Run', 'Bike', 'Car', 'Bus', 'Train', 'Subway']\n",
        "        k_size = 15\n",
        "        EPOCHS = 100\n",
        "    elif (dataset == 'Gesture Phase Segmentation'):\n",
        "        get_py_file(fname = 'gesture_phase_segmentation_load_dataset.py',\n",
        "                    url = 'https://raw.githubusercontent.com/imics-lab/load_data_time_series/main/Gesturing_Signing/gesture_phase_segmentation_load_dataset.py')\n",
        "        from gesture_phase_segmentation_load_dataset import gesture_phase_segmentation_load_dataset\n",
        "        x_train, y_train, x_valid, y_valid, x_test, y_test, log_info \\\n",
        "                                = gesture_phase_segmentation_load_dataset(\n",
        "                                    incl_val_group = True,\n",
        "                                    return_info_dict = True)\n",
        "        print(\"Note: Due to the size of the Gesture Phase Segmentation and for\",\n",
        "            \"\\ncompatibility, the test arrays are copies of the valid arrays\")\n",
        "        x_test = x_valid.copy()\n",
        "        y_test = y_valid.copy()\n",
        "        t_names = [\"Rest\", \"Preparation\", \"Stroke\",\"Hold\", \"Retraction\"]\n",
        "        k_size = 9\n",
        "        EPOCHS = 100\n",
        "    else:\n",
        "        print('ERROR: dataset unknown')\n",
        "    print(utils.tabulate_numpy_arrays({'x_train':x_train,'y_train':y_train,\n",
        "                                    'x_valid':x_valid,'y_valid':y_valid,\n",
        "                                    'x_test':x_test,'y_test':y_test}))\n",
        "    return x_train, y_train, x_valid, y_valid, x_test, y_test, k_size, EPOCHS, t_names\n"
      ],
      "metadata": {
        "id": "SGxLFZ2OR7_A"
      },
      "execution_count": 5,
      "outputs": []
    },
    {
      "cell_type": "code",
      "source": [
        "ds_list = [#\"UniMiB SHAR\",\n",
        "           #\"UCI HAR\",\n",
        "           \"TWristAR\",\n",
        "           #\"Leotta_2021\",\n",
        "           #\"Gesture Phase Segmentation\"\n",
        "           ]\n"
      ],
      "metadata": {
        "id": "F045KWvoR-1s"
      },
      "execution_count": 6,
      "outputs": []
    },
    {
      "cell_type": "code",
      "source": [
        "def learn_cpts(y, k):\n",
        "    \"\"\"\n",
        "    Learn and return the Conditional Probability Tables (CPTs) for a given sequence of class labels.\n",
        "\n",
        "    Args:\n",
        "    y (list): An array of consecutive class labels L_1, L_2, ..., L_n representing the labels of consecutive windows.\n",
        "    k (int): The maximum number of previous windows to consider.\n",
        "\n",
        "    Returns:\n",
        "    dict: A dictionary where keys are tuples representing conditions (previous labels) and values are Counter objects\n",
        "    representing the frequency of current labels given the conditions.\n",
        "    \"\"\"\n",
        "\n",
        "    # Initialize the dictionary to hold the CPTs\n",
        "    cpts = defaultdict(Counter)\n",
        "\n",
        "    # Iterate over the sequence of labels\n",
        "    for i in range(len(y)):\n",
        "        # Randomly choose the number of previous windows to consider, between 1 and k, ensuring it does not exceed the current index\n",
        "        m = random.randint(1, min(k, i) if i > 0 else 1)\n",
        "\n",
        "        # Extract the current label and the previous m labels\n",
        "        current_label = y[i]\n",
        "        previous_labels = tuple(y[max(0, i - m) : i])\n",
        "\n",
        "        # Update the CPTs\n",
        "        cpts[previous_labels][current_label] += 1\n",
        "\n",
        "    # Convert counts to probabilities\n",
        "    for previous_labels, counter in cpts.items():\n",
        "        total = sum(counter.values())\n",
        "        for label in counter:\n",
        "            cpts[previous_labels][label] /= total\n",
        "\n",
        "    return cpts\n"
      ],
      "metadata": {
        "id": "PX8AUp2BUeQF"
      },
      "execution_count": 7,
      "outputs": []
    },
    {
      "cell_type": "code",
      "source": [
        "def predict_label(cpts, previous_labels, num_classes):\n",
        "    \"\"\"\n",
        "    Predict the probability vector using a weighted average based on the length of each subsequence.\n",
        "\n",
        "    Args:\n",
        "    cpts (dict): A dictionary where keys are tuples representing conditions (previous labels) and values are Counter objects\n",
        "    representing the frequency of current labels given the conditions.\n",
        "    previous_labels (tuple): A tuple of previous labels.\n",
        "    num_classes (int): The number of distinct classes.\n",
        "\n",
        "    Returns:\n",
        "    list: A probability vector of length num_classes.\n",
        "    \"\"\"\n",
        "    # Initialize variables to hold the sum of weighted probabilities and the sum of weights\n",
        "    weighted_prob_sum = [0] * num_classes\n",
        "    weight_sum = 0\n",
        "\n",
        "    for i in range(1, len(previous_labels) + 1):\n",
        "        sub_sequence = tuple(previous_labels[-i:])\n",
        "        if sub_sequence in cpts:\n",
        "            sub_sequence_probs = cpts[sub_sequence]\n",
        "\n",
        "            # Calculate the weight for this subsequence (e.g., proportional to its length)\n",
        "            weight = len(sub_sequence)\n",
        "\n",
        "            for label, prob in sub_sequence_probs.items():\n",
        "                weighted_prob_sum[label - 1] += prob * weight\n",
        "\n",
        "            weight_sum += weight\n",
        "\n",
        "    # Avoid division by zero if no subsequences were found\n",
        "    if weight_sum == 0:\n",
        "        return [1 / num_classes] * num_classes\n",
        "\n",
        "    # Calculate the weighted average probability vector\n",
        "    weighted_average_prob_vector = [prob_sum / weight_sum for prob_sum in weighted_prob_sum]\n",
        "\n",
        "    return weighted_average_prob_vector\n"
      ],
      "metadata": {
        "id": "INYuV-2UUgrF"
      },
      "execution_count": 8,
      "outputs": []
    },
    {
      "cell_type": "code",
      "source": [
        "def Bayesian_probabilities(sequence):\n",
        "\n",
        "    bayesian_probabilities = []\n",
        "\n",
        "    # Iterate through each label in the sequence\n",
        "    for i, label in enumerate(sequence):\n",
        "        # Extract the previous labels for each instance\n",
        "        previous_labels = sequence[:i]\n",
        "\n",
        "        # Predict the probability vector using the CPTs\n",
        "        probability_vector = predict_label(cpts, previous_labels, num_classes)\n",
        "\n",
        "        # Append the predicted probabilities to the final list\n",
        "        bayesian_probabilities.append(probability_vector)\n",
        "\n",
        "    # Convert the list of predicted probabilities to a NumPy array for easy manipulation\n",
        "    bayesian_probabilities = np.array(bayesian_probabilities)\n",
        "\n",
        "    return bayesian_probabilities"
      ],
      "metadata": {
        "id": "-2ieVs5HLH18"
      },
      "execution_count": 9,
      "outputs": []
    },
    {
      "cell_type": "code",
      "source": [
        "def combine_probabilities(dl_probs, bayesian_probs, lambda_value):\n",
        "    \"\"\"\n",
        "    Combine the probabilities from the deep learning model and Bayesian model using a weighted average and normalize them.\n",
        "\n",
        "    Args:\n",
        "    dl_probs (list): A list of probabilities from the deep learning model.\n",
        "    bayesian_probs (list): A list of probabilities from the Bayesian model.\n",
        "    lambda_value (float): A hyperparameter controlling the weight given to each model's probabilities.\n",
        "\n",
        "    Returns:\n",
        "    list: A normalized combined probability vector.\n",
        "    \"\"\"\n",
        "\n",
        "    if not (0 <= lambda_value <= 1):\n",
        "        raise ValueError(\"Lambda value should be between 0 and 1.\")\n",
        "\n",
        "    # Calculate the weighted probabilities\n",
        "    combined_probs = [(lambda_value * dl_prob) + ((1 - lambda_value) * bayesian_prob)\n",
        "                      for dl_prob, bayesian_prob in zip(dl_probs, bayesian_probs)]\n",
        "\n",
        "    # Normalize the combined probabilities to sum up to 1\n",
        "    total_prob = sum(combined_probs)\n",
        "    normalized_probs = [prob / total_prob for prob in combined_probs] if (total_prob > 0).any() else combined_probs\n",
        "\n",
        "    return normalized_probs\n"
      ],
      "metadata": {
        "id": "tUe9CFS9UmdZ"
      },
      "execution_count": 10,
      "outputs": []
    },
    {
      "cell_type": "code",
      "source": [
        "# Load predicted probabilities from CNN for each dataset\n",
        "loaded_probabilities = {}\n",
        "for dataset in ds_list:\n",
        "    loaded_probabilities[dataset] = np.load(f'predicted_probabilities_{dataset}.npy')"
      ],
      "metadata": {
        "id": "qiLFtSU_KOMi"
      },
      "execution_count": 11,
      "outputs": []
    },
    {
      "cell_type": "code",
      "source": [
        "for i in ds_list:\n",
        "    dataset = i\n",
        "    print(\"**** \", dataset, \" ****\")\n",
        "    print(loaded_probabilities[dataset])"
      ],
      "metadata": {
        "colab": {
          "base_uri": "https://localhost:8080/"
        },
        "id": "UXDktpiRSDNB",
        "outputId": "ead12652-4f0b-4ee0-c329-ff09244395ab"
      },
      "execution_count": 12,
      "outputs": [
        {
          "output_type": "stream",
          "name": "stdout",
          "text": [
            "****  TWristAR  ****\n",
            "[[0.13010423 0.12972997 0.12977254 0.1297038  0.35085434 0.12983511]\n",
            " [0.13479117 0.13048019 0.13048638 0.13047758 0.3432846  0.13048007]\n",
            " [0.12956318 0.12956268 0.12956269 0.12956268 0.35218588 0.1295629 ]\n",
            " ...\n",
            " [0.13757193 0.13729449 0.2149591  0.23577073 0.13726506 0.13713866]\n",
            " [0.13757516 0.13731644 0.21795626 0.23270968 0.13727525 0.13716723]\n",
            " [0.13756827 0.13734733 0.22199212 0.22858171 0.13731298 0.13719763]]\n"
          ]
        }
      ]
    },
    {
      "cell_type": "code",
      "source": [
        "for i in ds_list:\n",
        "    dataset = i\n",
        "    print(\"**** \", dataset, \" ****\")\n",
        "    x_train, y_train, x_valid, y_valid, x_test, y_test, k_size, EPOCHS, t_names = get_dataset(dataset)\n",
        "    # Number of classes\n",
        "    num_classes = y_train.shape[1]\n",
        "    y_test_act = np.argmax(y_test, axis=-1)\n",
        "    y_train_act = np.argmax(y_train, axis=-1)\n",
        "    sequence = y_test_act\n",
        "    k = 25  # Maximum number of previous windows to consider\n",
        "    cpts = learn_cpts(y_train_act, k)\n",
        "    dl_probs = loaded_probabilities[dataset]  # Probabilities from deep learning model\n",
        "    bayesian_probs = Bayesian_probabilities(sequence)  # Probabilities from Bayesian model\n",
        "    #bayesian_probs = predict_label(cpts, sequence, num_classes)\n",
        "    lambda_value = 0.9\n",
        "\n",
        "    combined_probs = combine_probabilities(dl_probs, bayesian_probs, lambda_value)\n",
        "    new_y_pred = np.argmax(combined_probs, axis=-1)\n",
        "    # Print prediction accuracy\n",
        "    print('Prediction accuracy: {0:.3f}'.format(accuracy_score(y_test_act, new_y_pred)))\n",
        "\n",
        "    # Print a report of classification performance metrics\n",
        "    print(classification_report(y_test_act, new_y_pred, target_names=t_names))\n",
        "\n",
        "    # Plot a confusion matrix\n",
        "    cm = confusion_matrix(y_test_act, new_y_pred)\n",
        "    cm_df = pd.DataFrame(cm,\n",
        "                     index = t_names,\n",
        "                     columns = t_names)\n",
        "    fig = plt.figure(figsize=(6.5,5))\n",
        "    sns.heatmap(cm_df, annot=True, fmt='d', cmap='cubehelix_r')\n",
        "    plt.title('CNN-Bayesian using '+dataset+'\\nAccuracy:{0:.3f}'.format(accuracy_score(y_test_act, new_y_pred)))\n",
        "    plt.ylabel('True label')\n",
        "    plt.xlabel('Predicted label')\n",
        "    plt.tight_layout() # keeps labels from being cutoff when saving as pdf\n",
        "    plt.show()\n"
      ],
      "metadata": {
        "colab": {
          "base_uri": "https://localhost:8080/",
          "height": 1000
        },
        "id": "tWOmQMwWL2SJ",
        "outputId": "34cd2265-081a-42e3-9395-6794d0245316"
      },
      "execution_count": 47,
      "outputs": [
        {
          "output_type": "stream",
          "name": "stdout",
          "text": [
            "****  TWristAR  ****\n",
            "Local twristar_load_dataset.py found, skipping download\n"
          ]
        },
        {
          "output_type": "stream",
          "name": "stderr",
          "text": [
            "/usr/local/lib/python3.10/dist-packages/sklearn/preprocessing/_encoders.py:868: FutureWarning: `sparse` was renamed to `sparse_output` in version 1.2 and will be removed in 1.4. `sparse_output` is ignored unless you leave `sparse` to its default value.\n",
            "  warnings.warn(\n"
          ]
        },
        {
          "output_type": "stream",
          "name": "stdout",
          "text": [
            "Warning: Due to limited subjects the validation group is a stratified\n",
            "90/10 split of the training group.  It is not subject independent.\n",
            "array    shape          data type\n",
            "-------  -------------  -----------\n",
            "x_train  (1869, 96, 1)  float32\n",
            "y_train  (1869, 6)      uint8\n",
            "x_valid  (208, 96, 1)   float32\n",
            "y_valid  (208, 6)       uint8\n",
            "x_test   (1091, 96, 1)  float32\n",
            "y_test   (1091, 6)      uint8\n",
            "Prediction accuracy: 0.816\n",
            "              precision    recall  f1-score   support\n",
            "\n",
            "  Downstairs       0.88      0.53      0.66       173\n",
            "     Jogging       0.95      0.75      0.84       173\n",
            "     Sitting       0.88      0.86      0.87       171\n",
            "    Standing       0.90      0.84      0.87       186\n",
            "    Upstairs       0.72      0.94      0.81       198\n",
            "     Walking       0.72      0.94      0.81       190\n",
            "\n",
            "    accuracy                           0.82      1091\n",
            "   macro avg       0.84      0.81      0.81      1091\n",
            "weighted avg       0.84      0.82      0.81      1091\n",
            "\n"
          ]
        },
        {
          "output_type": "display_data",
          "data": {
            "text/plain": [
              "<Figure size 650x500 with 2 Axes>"
            ],
            "image/png": "[encoded data removed]"
          },
          "metadata": {}
        }
      ]
    }
  ]
}